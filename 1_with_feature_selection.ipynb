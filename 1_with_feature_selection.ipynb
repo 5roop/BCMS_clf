{
 "cells": [
  {
   "cell_type": "markdown",
   "metadata": {},
   "source": [
    "# Pars prima: SETimes dataset\n",
    "\n",
    "Feature selection dataset - web data (as was used until now)\n",
    "\n",
    "\n",
    "Training dataset - web data (as was used until now)\n",
    "\n",
    "\n",
    "Hyperparameter selection dataset - train split\n",
    "\n",
    "\n",
    "Evaluation dataset - dev+test split, log micro- macro-F1 and Confusion Matrices\n"
   ]
  },
  {
   "cell_type": "code",
   "execution_count": 7,
   "metadata": {},
   "outputs": [],
   "source": [
    "from utils import transliterate, is_alpha, load_SET_dataset, load_twitter_dataset, get_N_tokens, LABELS, read_and_split_file\n",
    "import pandas as pd\n",
    "N = 5000\n",
    "\n",
    "def load_tails():\n",
    "    interim_dir = \"/home/peterr/macocu/taskB/data/interim\"\n",
    "    texts, labels = list(), list()\n",
    "    files = [\"bswac_tail_pp\", \"cnrwac_tail_pp_corrected_2\", \"hrwac_tail_pp\", \"srwac_tail_pp\"]\n",
    "    langs = [\"bs\", \"me\", \"hr\", \"sr\"]\n",
    "\n",
    "    for file, lang in zip(files, langs):\n",
    "        full_path = os.path.join(interim_dir, file)\n",
    "        current_texts = read_and_split_file(full_path)\n",
    "        len_cur_texts = len(current_texts)\n",
    "        texts.extend(current_texts)\n",
    "        labels.extend([lang] * len_cur_texts)\n",
    "\n",
    "    return pd.DataFrame(data={\"text\": texts, \"labels\": labels})\n",
    "\n",
    "train = load_tails()\n",
    "tokens = get_N_tokens(N=1000)\n",
    "SET = load_SET_dataset().rename(columns={\"language\":\"labels\"})\n",
    "\n",
    "dev_df = SET.loc[SET.split == \"train\", [\"text\", \"labels\"]]\n",
    "test_df = SET.loc[SET.split != \"train\", [\"text\", \"labels\"]]\n"
   ]
  },
  {
   "cell_type": "code",
   "execution_count": 17,
   "metadata": {},
   "outputs": [],
   "source": [
    "def train_clf(N=1000):\n",
    "    from sklearn.svm import LinearSVC\n",
    "    import gc\n",
    "    from sklearn.feature_extraction.text import CountVectorizer\n",
    "    gc.collect()\n",
    "    train = load_tails()\n",
    "    clf = LinearSVC(dual=False)\n",
    "    vocabulary = get_N_tokens(N)\n",
    "    vectorizer = CountVectorizer(vocabulary=vocabulary, lowercase=True, binary=True)\n",
    "    train_vectors = vectorizer.fit_transform(train.text)\n",
    "    train_labels = train.labels\n",
    "    clf.fit(train_vectors.toarray(), train_labels)\n",
    "\n",
    "    return clf, vectorizer\n",
    "\n",
    "def eval_clf(clf, eval_df, vectorizer):\n",
    "    from sklearn.metrics import (\n",
    "        f1_score,\n",
    "        ConfusionMatrixDisplay,\n",
    "        confusion_matrix,\n",
    "        accuracy_score,\n",
    "    )\n",
    "    test_vectors = vectorizer.fit_transform(eval_df.text)\n",
    "    y_true = eval_df.labels\n",
    "    y_pred = clf.predict(test_vectors.toarray())\n",
    "    macro = f1_score(y_true, y_pred, labels=LABELS, average=\"macro\")\n",
    "    micro = f1_score(y_true, y_pred, labels=LABELS, average=\"micro\")\n",
    "    acc = accuracy_score(y_true, y_pred)\n",
    "    cm = confusion_matrix(y_true, y_pred, labels=LABELS)\n",
    "    returndict = dict(\n",
    "        N=N,\n",
    "        macroF1=macro,\n",
    "        microF1=micro,\n",
    "        accuracy=acc,\n",
    "        cm = cm,\n",
    "\n",
    "    )\n",
    "    return returndict\n",
    "\n"
   ]
  },
  {
   "cell_type": "code",
   "execution_count": 26,
   "metadata": {},
   "outputs": [],
   "source": [
    "import numpy as np\n",
    "Ns = np.logspace(1, 5, 100, dtype=np.int)\n",
    "results = list()\n",
    "for N in Ns:\n",
    "    try:\n",
    "        clf, vectorizer = train_clf(N=N)\n",
    "        rezdict = eval_clf(clf, dev_df, vectorizer)\n",
    "        rezdict[\"dev\"] = \"SET train\"\n",
    "        results.append(rezdict)\n",
    "    except:\n",
    "        pass\n",
    "\n"
   ]
  },
  {
   "cell_type": "code",
   "execution_count": 27,
   "metadata": {},
   "outputs": [],
   "source": [
    "pd.DataFrame(data=results).to_csv(\"1_part_SETIMES_hyperparams_optimization.csv\")"
   ]
  },
  {
   "cell_type": "code",
   "execution_count": 6,
   "metadata": {},
   "outputs": [
    {
     "data": {
      "image/png": "[encoded data removed]",
      "text/plain": [
       "<Figure size 504x288 with 1 Axes>"
      ]
     },
     "metadata": {
      "needs_background": "light"
     },
     "output_type": "display_data"
    }
   ],
   "source": [
    "import matplotlib.pyplot as plt\n",
    "plt.style.use(\"science,no-latex\".split(\",\"))\n",
    "import pandas as pd\n",
    "df = pd.read_csv(\"1_part_SETIMES_hyperparams_optimization.csv\")\n",
    "\n",
    "plt.figure(figsize=(7,4))\n",
    "plt.plot(df.N, df.macroF1, label=\"macro F1\")\n",
    "plt.plot(df.N, df.microF1, label=\"micro F1\")\n",
    "plt.semilogx()\n",
    "plt.legend()\n",
    "plt.xlabel(\"Tokens per language pair\")\n",
    "plt.title(\"LinSVC on SETimes\")\n",
    "plt.savefig(\"images/1_linscv_on_setimes_bool_vectorizer.png\")\n",
    "plt.show()"
   ]
  },
  {
   "cell_type": "code",
   "execution_count": 30,
   "metadata": {},
   "outputs": [
    {
     "data": {
      "text/plain": [
       "Index(['Unnamed: 0', 'N', 'macroF1', 'microF1', 'accuracy', 'cm', 'dev'], dtype='object')"
      ]
     },
     "execution_count": 30,
     "metadata": {},
     "output_type": "execute_result"
    }
   ],
   "source": [
    "df.columns"
   ]
  },
  {
   "cell_type": "markdown",
   "metadata": {},
   "source": [
    "# Pars sekunda: Twitter dataset\n",
    "\n",
    "Feature selection dataset - web data (as was used until now)\n",
    "\n",
    "\n",
    "Training dataset - web data (as was used until now)\n",
    "\n",
    "\n",
    "Hyperparameter selection dataset - train split\n",
    "\n",
    "\n",
    "Evaluation dataset - dev+test split, log micro- macro-F1 and Confusion Matrices"
   ]
  },
  {
   "cell_type": "code",
   "execution_count": 16,
   "metadata": {},
   "outputs": [],
   "source": [
    "tw = load_twitter_dataset().rename(columns={\"language\":\"labels\"})\n",
    "tw[\"text\"] = tw.tweets.apply(lambda l: \" \".join(l))\n",
    "\n",
    "dev_df = tw.loc[tw.split == \"train\", [\"text\", \"labels\"]]"
   ]
  },
  {
   "cell_type": "code",
   "execution_count": 18,
   "metadata": {},
   "outputs": [],
   "source": [
    "import numpy as np\n",
    "Ns = np.logspace(1, 5, 50, dtype=np.int)\n",
    "results = list()\n",
    "for N in Ns:\n",
    "    try:\n",
    "        clf, vectorizer = train_clf(N=N)\n",
    "        rezdict = eval_clf(clf, dev_df, vectorizer)\n",
    "        rezdict[\"dev\"] = \"Twitter train\"\n",
    "        results.append(rezdict)\n",
    "    except:\n",
    "        pass\n",
    "pd.DataFrame(data=results).to_csv(\"1_part_TWITTER_hyperparams_optimization.csv\")"
   ]
  },
  {
   "cell_type": "code",
   "execution_count": null,
   "metadata": {},
   "outputs": [],
   "source": []
  }
 ],
 "metadata": {
  "interpreter": {
   "hash": "7f6f5766036ee03d059e365a942add07f79c17033585e9357ee8157d52fe6bb9"
  },
  "kernelspec": {
   "display_name": "Python 3.8.3 64-bit ('base': conda)",
   "language": "python",
   "name": "python3"
  },
  "language_info": {
   "codemirror_mode": {
    "name": "ipython",
    "version": 3
   },
   "file_extension": ".py",
   "mimetype": "text/x-python",
   "name": "python",
   "nbconvert_exporter": "python",
   "pygments_lexer": "ipython3",
   "version": "3.8.3"
  },
  "orig_nbformat": 4
 },
 "nbformat": 4,
 "nbformat_minor": 2
}
