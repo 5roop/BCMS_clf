{
 "cells": [
  {
   "cell_type": "code",
   "execution_count": 2,
   "metadata": {},
   "outputs": [],
   "source": [
    "from utils import transliterate, is_alpha, load_SET_dataset, load_twitter_dataset, get_N_tokens, LABELS, read_and_split_file\n",
    "import pandas as pd\n",
    "\n",
    "def load_tails():\n",
    "    interim_dir = \"/home/peterr/macocu/taskB/data/interim\"\n",
    "    texts, labels = list(), list()\n",
    "    files = [\"bswac_tail_pp\", \"cnrwac_tail_pp_corrected_2\", \"hrwac_tail_pp\", \"srwac_tail_pp\"]\n",
    "    langs = [\"bs\", \"me\", \"hr\", \"sr\"]\n",
    "\n",
    "    for file, lang in zip(files, langs):\n",
    "        full_path = os.path.join(interim_dir, file)\n",
    "        current_texts = read_and_split_file(full_path)\n",
    "        len_cur_texts = len(current_texts)\n",
    "        texts.extend(current_texts)\n",
    "        labels.extend([lang] * len_cur_texts)\n",
    "\n",
    "    return pd.DataFrame(data={\"text\": texts, \"labels\": labels})\n",
    "\n",
    "train = load_tails()\n",
    "SET = load_SET_dataset().rename(columns={\"language\":\"labels\"})\n",
    "\n",
    "dev_df = SET.loc[SET.split == \"train\", [\"text\", \"labels\"]]\n",
    "test_df = SET.loc[SET.split != \"train\", [\"text\", \"labels\"]]\n",
    "\n"
   ]
  },
  {
   "cell_type": "code",
   "execution_count": 3,
   "metadata": {},
   "outputs": [
    {
     "name": "stderr",
     "output_type": "stream",
     "text": [
      "/home/peterr/anaconda3/lib/python3.8/site-packages/sklearn/svm/_base.py:976: ConvergenceWarning: Liblinear failed to converge, increase the number of iterations.\n",
      "  warnings.warn(\"Liblinear failed to converge, increase \"\n"
     ]
    }
   ],
   "source": [
    "def train_clf(N, train):\n",
    "    from sklearn.svm import LinearSVC\n",
    "    import gc\n",
    "    from sklearn.feature_extraction.text import CountVectorizer\n",
    "    gc.collect()\n",
    "    clf = LinearSVC(dual=False)\n",
    "    vectorizer = CountVectorizer(lowercase=True, binary=False, ngram_range=(3,3), analyzer=\"char\", max_features=N)\n",
    "    train_vectors = vectorizer.fit_transform(train.text)\n",
    "    train_labels = train.labels\n",
    "    clf.fit(train_vectors.toarray(), train_labels)\n",
    "\n",
    "    return clf, vectorizer\n",
    "\n",
    "def eval_clf(clf, eval_df, vectorizer):\n",
    "    from sklearn.metrics import (\n",
    "        f1_score,\n",
    "        ConfusionMatrixDisplay,\n",
    "        confusion_matrix,\n",
    "        accuracy_score,\n",
    "    )\n",
    "    test_vectors = vectorizer.fit_transform(eval_df.text)\n",
    "    y_true = eval_df.labels\n",
    "    y_pred = clf.predict(test_vectors.toarray())\n",
    "    macro = f1_score(y_true, y_pred, labels=LABELS, average=\"macro\")\n",
    "    micro = f1_score(y_true, y_pred, labels=LABELS, average=\"micro\")\n",
    "    acc = accuracy_score(y_true, y_pred)\n",
    "    cm = confusion_matrix(y_true, y_pred, labels=LABELS)\n",
    "    returndict = dict(\n",
    "        N=N,\n",
    "        macroF1=macro,\n",
    "        microF1=micro,\n",
    "        accuracy=acc,\n",
    "        cm = cm,\n",
    "\n",
    "    )\n",
    "    return returndict\n",
    "import numpy as np\n",
    "results = list()\n",
    "for N in [5000, 10000, 15000, 20000]:\n",
    "    try:\n",
    "        clf, vectorizer = train_clf(N, train)\n",
    "        rezdict = eval_clf(clf, dev_df, vectorizer)\n",
    "        rezdict[\"dev\"] = \"SET train\"\n",
    "        results.append(rezdict)\n",
    "    except MemoryError:\n",
    "        print(\"Failed at\", N, \",  quitting.\")\n",
    "        break\n",
    "    finally:\n",
    "        pd.DataFrame(data=results).to_csv(\"2_part_SETIMES_hyperparams_optimization_3gram.csv\")"
   ]
  },
  {
   "cell_type": "code",
   "execution_count": null,
   "metadata": {},
   "outputs": [],
   "source": [
    "import pandas as pd\n",
    "df = pd.read_csv(\"2_part_SETIMES_hyperparams_optimization_3gram.csv\")\n",
    "print(df.to_markdown())"
   ]
  },
  {
   "cell_type": "code",
   "execution_count": null,
   "metadata": {},
   "outputs": [],
   "source": [
    "df"
   ]
  },
  {
   "cell_type": "code",
   "execution_count": null,
   "metadata": {},
   "outputs": [],
   "source": []
  }
 ],
 "metadata": {
  "interpreter": {
   "hash": "7f6f5766036ee03d059e365a942add07f79c17033585e9357ee8157d52fe6bb9"
  },
  "kernelspec": {
   "display_name": "Python 3.8.3 64-bit ('base': conda)",
   "language": "python",
   "name": "python3"
  },
  "language_info": {
   "codemirror_mode": {
    "name": "ipython",
    "version": 3
   },
   "file_extension": ".py",
   "mimetype": "text/x-python",
   "name": "python",
   "nbconvert_exporter": "python",
   "pygments_lexer": "ipython3",
   "version": "3.8.3"
  },
  "orig_nbformat": 4
 },
 "nbformat": 4,
 "nbformat_minor": 2
}
