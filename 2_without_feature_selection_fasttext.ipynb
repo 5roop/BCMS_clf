{
 "cells": [
  {
   "cell_type": "code",
   "execution_count": 1,
   "metadata": {},
   "outputs": [],
   "source": [
    "from utils import transliterate, is_alpha, load_SET_dataset, load_twitter_dataset, get_N_tokens, LABELS, read_and_split_file\n",
    "import pandas as pd\n",
    "import tempfile\n",
    "N = 5000\n",
    "\n",
    "def load_tails():\n",
    "    interim_dir = \"/home/peterr/macocu/taskB/data/interim\"\n",
    "    texts, labels = list(), list()\n",
    "    files = [\"bswac_tail_pp\", \"cnrwac_tail_pp_corrected_2\", \"hrwac_tail_pp\", \"srwac_tail_pp\"]\n",
    "    langs = [\"bs\", \"me\", \"hr\", \"sr\"]\n",
    "\n",
    "    for file, lang in zip(files, langs):\n",
    "        full_path = os.path.join(interim_dir, file)\n",
    "        current_texts = read_and_split_file(full_path)\n",
    "        len_cur_texts = len(current_texts)\n",
    "        texts.extend(current_texts)\n",
    "        labels.extend([lang] * len_cur_texts)\n",
    "\n",
    "    return pd.DataFrame(data={\"text\": texts, \"labels\": labels})\n",
    "\n",
    "train = load_tails()\n",
    "#tokens = get_N_tokens(N=1000)\n",
    "SET = load_SET_dataset().rename(columns={\"language\":\"labels\"})\n",
    "\n",
    "dev_df = SET.loc[SET.split == \"train\", [\"text\", \"labels\"]]\n",
    "test_df = SET.loc[SET.split != \"train\", [\"text\", \"labels\"]]\n"
   ]
  },
  {
   "cell_type": "markdown",
   "metadata": {},
   "source": [
    "Let's prepare content in fasttext format that will be written to a file"
   ]
  },
  {
   "cell_type": "code",
   "execution_count": 2,
   "metadata": {},
   "outputs": [],
   "source": [
    "content = \"\"\n",
    "for i, row in train.iterrows():\n",
    "    corrected_text = row['text'].replace('\\n', ' ')\n",
    "    content += f\"\"\"__label__{row['labels']} {corrected_text}\\n\"\"\""
   ]
  },
  {
   "cell_type": "markdown",
   "metadata": {},
   "source": [
    "Let's prepare data in fasttext format in a temporary file:"
   ]
  },
  {
   "cell_type": "code",
   "execution_count": 8,
   "metadata": {},
   "outputs": [
    {
     "name": "stdout",
     "output_type": "stream",
     "text": [
      "/tmp/tmpa_2nba15\n"
     ]
    }
   ],
   "source": [
    "import tempfile\n",
    "  \n",
    "fo = tempfile.NamedTemporaryFile()\n",
    "print(fo.name)\n",
    "with open(fo.name, \"w\") as f:\n",
    "    f.write(content)\n",
    "\n",
    "import fasttext\n",
    "\n",
    "model = fasttext.train_supervised(fo.name,\n",
    "                                epoch=15,\n",
    "                                # minCount=5,\n",
    "                                minn=3,\n",
    "                                maxn=6\n",
    "                                 )\n",
    "fo.close()"
   ]
  },
  {
   "cell_type": "markdown",
   "metadata": {},
   "source": [
    "Let's evaluate the model:"
   ]
  },
  {
   "cell_type": "code",
   "execution_count": 9,
   "metadata": {},
   "outputs": [
    {
     "name": "stdout",
     "output_type": "stream",
     "text": [
      "{'N': 5000, 'macroF1': 0.57674849756372, 'microF1': 0.7649850827230811, 'accuracy': 0.7649850827230811, 'cm': array([[1040, 1511,    0,    5],\n",
      "       [   5, 2361,    1,  189],\n",
      "       [   0,    1, 2240,   21],\n",
      "       [   0,    0,    0,    0]])}\n"
     ]
    }
   ],
   "source": [
    "dev_df = SET.loc[SET.split == \"train\", [\"text\", \"labels\"]]\n",
    "from sklearn.metrics import (\n",
    "    f1_score,\n",
    "    ConfusionMatrixDisplay,\n",
    "    confusion_matrix,\n",
    "    accuracy_score,\n",
    ")\n",
    "y_true = dev_df.labels\n",
    "y_pred = [model.predict(s.replace(\"\\n\", \" \"))[0][0] for s in dev_df.text]\n",
    "y_pred = [s[9:] for s in y_pred]\n",
    "macro = f1_score(y_true, y_pred, labels=LABELS, average=\"macro\")\n",
    "micro = f1_score(y_true, y_pred, labels=LABELS, average=\"micro\")\n",
    "acc = accuracy_score(y_true, y_pred)\n",
    "cm = confusion_matrix(y_true, y_pred, labels=LABELS)\n",
    "returndict = dict(\n",
    "    N=N,\n",
    "    macroF1=macro,\n",
    "    microF1=micro,\n",
    "    accuracy=acc,\n",
    "    cm = cm,\n",
    "\n",
    ")\n",
    "print(returndict)"
   ]
  },
  {
   "cell_type": "markdown",
   "metadata": {},
   "source": [
    "Let's repeat this for...\n",
    "\n",
    "# Twitter dataset"
   ]
  },
  {
   "cell_type": "code",
   "execution_count": 10,
   "metadata": {},
   "outputs": [
    {
     "name": "stdout",
     "output_type": "stream",
     "text": [
      "{'N': 5000, 'macroF1': 0.7307957671117864, 'microF1': 0.8804347826086957, 'accuracy': 0.8804347826086957, 'cm': array([[ 48,   2,   0,   3],\n",
      "       [  3,  32,   1,   9],\n",
      "       [  0,   2, 233,   1],\n",
      "       [  1,  18,   4,  11]])}\n"
     ]
    }
   ],
   "source": [
    "tw = load_twitter_dataset().rename(columns={\"language\":\"labels\"})\n",
    "tw[\"text\"] = tw.tweets.apply(lambda l: \" \".join(l))\n",
    "\n",
    "dev_df = tw.loc[tw.split == \"train\", [\"text\", \"labels\"]]\n",
    "\n",
    "\n",
    "\n",
    "from sklearn.metrics import (\n",
    "    f1_score,\n",
    "    ConfusionMatrixDisplay,\n",
    "    confusion_matrix,\n",
    "    accuracy_score,\n",
    ")\n",
    "y_true = dev_df.labels\n",
    "y_pred = [model.predict(s.replace(\"\\n\", \" \"))[0][0] for s in dev_df.text]\n",
    "y_pred = [s[9:] for s in y_pred]\n",
    "macro = f1_score(y_true, y_pred, labels=LABELS, average=\"macro\")\n",
    "micro = f1_score(y_true, y_pred, labels=LABELS, average=\"micro\")\n",
    "acc = accuracy_score(y_true, y_pred)\n",
    "cm = confusion_matrix(y_true, y_pred, labels=LABELS)\n",
    "returndict = dict(\n",
    "    N=N,\n",
    "    macroF1=macro,\n",
    "    microF1=micro,\n",
    "    accuracy=acc,\n",
    "    cm = cm,\n",
    "\n",
    ")\n",
    "print(returndict)"
   ]
  },
  {
   "cell_type": "markdown",
   "metadata": {},
   "source": []
  },
  {
   "cell_type": "code",
   "execution_count": null,
   "metadata": {},
   "outputs": [],
   "source": []
  },
  {
   "cell_type": "code",
   "execution_count": null,
   "metadata": {},
   "outputs": [],
   "source": []
  }
 ],
 "metadata": {
  "interpreter": {
   "hash": "7f6f5766036ee03d059e365a942add07f79c17033585e9357ee8157d52fe6bb9"
  },
  "kernelspec": {
   "display_name": "Python 3.8.3 64-bit ('base': conda)",
   "language": "python",
   "name": "python3"
  },
  "language_info": {
   "codemirror_mode": {
    "name": "ipython",
    "version": 3
   },
   "file_extension": ".py",
   "mimetype": "text/x-python",
   "name": "python",
   "nbconvert_exporter": "python",
   "pygments_lexer": "ipython3",
   "version": "3.8.3"
  },
  "orig_nbformat": 4
 },
 "nbformat": 4,
 "nbformat_minor": 2
}
