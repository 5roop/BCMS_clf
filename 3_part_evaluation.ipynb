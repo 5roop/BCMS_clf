{
 "cells": [
  {
   "cell_type": "markdown",
   "metadata": {},
   "source": [
    "The purpose of this notebook is to evaluate the classifiers we produced in the first part on test splits.\n",
    "\n",
    "For with-feature-selection classifier we shall take 70 tokens per language pair for SETimes, and for Twitter 167 tokens per language pair will be taken. "
   ]
  },
  {
   "cell_type": "code",
   "execution_count": 2,
   "metadata": {},
   "outputs": [],
   "source": [
    "import pandas as pd\n",
    "pd.set_option('display.max_rows', 200)\n",
    "pd.set_option('display.max_colwidth', 200)\n",
    "setimes = pd.read_csv(\"1_part_SETIMES_hyperparams_optimization.csv\")\n",
    "twitter = pd.read_csv(\"1_part_TWITTER_hyperparams_optimization.csv\")"
   ]
  },
  {
   "cell_type": "code",
   "execution_count": 3,
   "metadata": {},
   "outputs": [
    {
     "data": {
      "text/html": [
       "<div>\n",
       "<style scoped>\n",
       "    .dataframe tbody tr th:only-of-type {\n",
       "        vertical-align: middle;\n",
       "    }\n",
       "\n",
       "    .dataframe tbody tr th {\n",
       "        vertical-align: top;\n",
       "    }\n",
       "\n",
       "    .dataframe thead th {\n",
       "        text-align: right;\n",
       "    }\n",
       "</style>\n",
       "<table border=\"1\" class=\"dataframe\">\n",
       "  <thead>\n",
       "    <tr style=\"text-align: right;\">\n",
       "      <th></th>\n",
       "      <th>Unnamed: 0</th>\n",
       "      <th>N</th>\n",
       "      <th>macroF1</th>\n",
       "      <th>microF1</th>\n",
       "      <th>accuracy</th>\n",
       "      <th>cm</th>\n",
       "      <th>dev</th>\n",
       "    </tr>\n",
       "  </thead>\n",
       "  <tbody>\n",
       "    <tr>\n",
       "      <th>15</th>\n",
       "      <td>15</td>\n",
       "      <td>167</td>\n",
       "      <td>0.80441</td>\n",
       "      <td>0.913043</td>\n",
       "      <td>0.913043</td>\n",
       "      <td>[[ 50   3   0   0]\\n [  1  41   0   3]\\n [  1   3 232   0]\\n [  0  15   6  13]]</td>\n",
       "      <td>Twitter train</td>\n",
       "    </tr>\n",
       "    <tr>\n",
       "      <th>15</th>\n",
       "      <td>15</td>\n",
       "      <td>167</td>\n",
       "      <td>0.80441</td>\n",
       "      <td>0.913043</td>\n",
       "      <td>0.913043</td>\n",
       "      <td>[[ 50   3   0   0]\\n [  1  41   0   3]\\n [  1   3 232   0]\\n [  0  15   6  13]]</td>\n",
       "      <td>Twitter train</td>\n",
       "    </tr>\n",
       "  </tbody>\n",
       "</table>\n",
       "</div>"
      ],
      "text/plain": [
       "    Unnamed: 0    N  macroF1   microF1  accuracy  \\\n",
       "15          15  167  0.80441  0.913043  0.913043   \n",
       "15          15  167  0.80441  0.913043  0.913043   \n",
       "\n",
       "                                                                                 cm  \\\n",
       "15  [[ 50   3   0   0]\\n [  1  41   0   3]\\n [  1   3 232   0]\\n [  0  15   6  13]]   \n",
       "15  [[ 50   3   0   0]\\n [  1  41   0   3]\\n [  1   3 232   0]\\n [  0  15   6  13]]   \n",
       "\n",
       "              dev  \n",
       "15  Twitter train  \n",
       "15  Twitter train  "
      ]
     },
     "execution_count": 3,
     "metadata": {},
     "output_type": "execute_result"
    }
   ],
   "source": [
    "best_macro = twitter.macroF1.argmax()\n",
    "best_micro = twitter.microF1.argmax()\n",
    "twitter.iloc[[best_macro, best_micro], :]"
   ]
  },
  {
   "cell_type": "markdown",
   "metadata": {},
   "source": [
    "In the Twitter case above best macro and best micro F1 scores coincide."
   ]
  },
  {
   "cell_type": "code",
   "execution_count": 4,
   "metadata": {},
   "outputs": [
    {
     "data": {
      "text/html": [
       "<div>\n",
       "<style scoped>\n",
       "    .dataframe tbody tr th:only-of-type {\n",
       "        vertical-align: middle;\n",
       "    }\n",
       "\n",
       "    .dataframe tbody tr th {\n",
       "        vertical-align: top;\n",
       "    }\n",
       "\n",
       "    .dataframe thead th {\n",
       "        text-align: right;\n",
       "    }\n",
       "</style>\n",
       "<table border=\"1\" class=\"dataframe\">\n",
       "  <thead>\n",
       "    <tr style=\"text-align: right;\">\n",
       "      <th></th>\n",
       "      <th>Unnamed: 0</th>\n",
       "      <th>N</th>\n",
       "      <th>macroF1</th>\n",
       "      <th>microF1</th>\n",
       "      <th>accuracy</th>\n",
       "      <th>cm</th>\n",
       "      <th>dev</th>\n",
       "    </tr>\n",
       "  </thead>\n",
       "  <tbody>\n",
       "    <tr>\n",
       "      <th>21</th>\n",
       "      <td>21</td>\n",
       "      <td>70</td>\n",
       "      <td>0.601870</td>\n",
       "      <td>0.735829</td>\n",
       "      <td>0.735829</td>\n",
       "      <td>[[1651  815    0   90]\\n [  18 1715    0  823]\\n [   0   13 2060  189]\\n [   0    0    0    0]]</td>\n",
       "      <td>SET train</td>\n",
       "    </tr>\n",
       "    <tr>\n",
       "      <th>33</th>\n",
       "      <td>33</td>\n",
       "      <td>215</td>\n",
       "      <td>0.591024</td>\n",
       "      <td>0.742880</td>\n",
       "      <td>0.742880</td>\n",
       "      <td>[[1369 1123    0   64]\\n [   4 1986    0  566]\\n [   0   18 2123  121]\\n [   0    0    0    0]]</td>\n",
       "      <td>SET train</td>\n",
       "    </tr>\n",
       "  </tbody>\n",
       "</table>\n",
       "</div>"
      ],
      "text/plain": [
       "    Unnamed: 0    N   macroF1   microF1  accuracy  \\\n",
       "21          21   70  0.601870  0.735829  0.735829   \n",
       "33          33  215  0.591024  0.742880  0.742880   \n",
       "\n",
       "                                                                                                 cm  \\\n",
       "21  [[1651  815    0   90]\\n [  18 1715    0  823]\\n [   0   13 2060  189]\\n [   0    0    0    0]]   \n",
       "33  [[1369 1123    0   64]\\n [   4 1986    0  566]\\n [   0   18 2123  121]\\n [   0    0    0    0]]   \n",
       "\n",
       "          dev  \n",
       "21  SET train  \n",
       "33  SET train  "
      ]
     },
     "execution_count": 4,
     "metadata": {},
     "output_type": "execute_result"
    }
   ],
   "source": [
    "best_macro = setimes.macroF1.argmax()\n",
    "best_micro = setimes.microF1.argmax()\n",
    "setimes.iloc[[best_macro, best_micro], :]"
   ]
  },
  {
   "cell_type": "markdown",
   "metadata": {},
   "source": [
    "In the SETimes case we take N=70 for maximal macro F1.\n",
    "\n",
    "# Evaluation"
   ]
  },
  {
   "cell_type": "code",
   "execution_count": 5,
   "metadata": {},
   "outputs": [],
   "source": [
    "from utils import transliterate, is_alpha, load_SET_dataset, load_twitter_dataset, get_N_tokens, LABELS, read_and_split_file\n",
    "\n",
    "def load_tails():\n",
    "    interim_dir = \"/home/peterr/macocu/taskB/data/interim\"\n",
    "    texts, labels = list(), list()\n",
    "    files = [\"bswac_tail_pp\", \"cnrwac_tail_pp_corrected_2\", \"hrwac_tail_pp\", \"srwac_tail_pp\"]\n",
    "    langs = [\"bs\", \"me\", \"hr\", \"sr\"]\n",
    "\n",
    "    for file, lang in zip(files, langs):\n",
    "        full_path = os.path.join(interim_dir, file)\n",
    "        current_texts = read_and_split_file(full_path)\n",
    "        len_cur_texts = len(current_texts)\n",
    "        texts.extend(current_texts)\n",
    "        labels.extend([lang] * len_cur_texts)\n",
    "\n",
    "    return pd.DataFrame(data={\"text\": texts, \"labels\": labels})\n",
    "\n",
    "train = load_tails()\n",
    "SET = load_SET_dataset().rename(columns={\"language\":\"labels\"})\n",
    "\n",
    "dev_df = SET.loc[SET.split == \"train\", [\"text\", \"labels\"]]\n",
    "test_df = SET.loc[SET.split != \"train\", [\"text\", \"labels\"]]\n",
    "\n",
    "def train_clf(N=1000):\n",
    "    from sklearn.svm import LinearSVC\n",
    "    import gc\n",
    "    from sklearn.feature_extraction.text import CountVectorizer\n",
    "    gc.collect()\n",
    "    train = load_tails()\n",
    "    clf = LinearSVC(dual=False)\n",
    "    vocabulary = get_N_tokens(N)\n",
    "    vectorizer = CountVectorizer(vocabulary=vocabulary, lowercase=True, binary=True)\n",
    "    train_vectors = vectorizer.fit_transform(train.text)\n",
    "    train_labels = train.labels\n",
    "    clf.fit(train_vectors.toarray(), train_labels)\n",
    "\n",
    "    return clf, vectorizer\n",
    "\n",
    "def eval_clf(clf, eval_df, vectorizer):\n",
    "    from sklearn.metrics import (\n",
    "        f1_score,\n",
    "        ConfusionMatrixDisplay,\n",
    "        confusion_matrix,\n",
    "        accuracy_score,\n",
    "    )\n",
    "    test_vectors = vectorizer.fit_transform(eval_df.text)\n",
    "    y_true = eval_df.labels\n",
    "    y_pred = clf.predict(test_vectors.toarray())\n",
    "    macro = f1_score(y_true, y_pred, labels=LABELS, average=\"macro\")\n",
    "    micro = f1_score(y_true, y_pred, labels=LABELS, average=\"micro\")\n",
    "    acc = accuracy_score(y_true, y_pred)\n",
    "    cm = confusion_matrix(y_true, y_pred, labels=LABELS)\n",
    "    returndict = dict(\n",
    "        N=N,\n",
    "        macroF1=macro,\n",
    "        microF1=micro,\n",
    "        accuracy=acc,\n",
    "        cm = cm,\n",
    "\n",
    "    )\n",
    "    return returndict\n",
    "\n"
   ]
  },
  {
   "cell_type": "markdown",
   "metadata": {},
   "source": [
    "## SETimes"
   ]
  },
  {
   "cell_type": "code",
   "execution_count": 7,
   "metadata": {},
   "outputs": [
    {
     "name": "stdout",
     "output_type": "stream",
     "text": [
      "{'N': 70, 'macroF1': 0.6033297686474621, 'microF1': 0.7356687898089171, 'accuracy': 0.7356687898089171, 'cm': array([[430, 186,   0,  24],\n",
      "       [  3, 408,   0, 228],\n",
      "       [  0,   1, 548,  56],\n",
      "       [  0,   0,   0,   0]])}\n"
     ]
    }
   ],
   "source": [
    "N = 70\n",
    "clf, vectorizer = train_clf(N=N)\n",
    "rezdict = eval_clf(clf, test_df, vectorizer)\n",
    "print(rezdict)"
   ]
  },
  {
   "cell_type": "markdown",
   "metadata": {},
   "source": [
    "## Twitter"
   ]
  },
  {
   "cell_type": "code",
   "execution_count": 8,
   "metadata": {},
   "outputs": [
    {
     "name": "stdout",
     "output_type": "stream",
     "text": [
      "{'N': 167, 'macroF1': 0.7376482549826837, 'microF1': 0.8902439024390244, 'accuracy': 0.8902439024390244, 'cm': array([[ 33,   3,   0,   0],\n",
      "       [  1,  25,   2,   2],\n",
      "       [  0,   2, 156,   0],\n",
      "       [  1,  11,   5,   5]])}\n"
     ]
    }
   ],
   "source": [
    "tw = load_twitter_dataset().rename(columns={\"language\":\"labels\"})\n",
    "tw[\"text\"] = tw.tweets.apply(lambda l: \" \".join(l))\n",
    "\n",
    "dev_df = tw.loc[tw.split == \"train\", [\"text\", \"labels\"]]\n",
    "test_df = tw.loc[tw.split != \"train\", [\"text\", \"labels\"]]\n",
    "\n",
    "N=167\n",
    "clf, vectorizer = train_clf(N=N)\n",
    "rezdict = eval_clf(clf, test_df, vectorizer)\n",
    "print(rezdict)"
   ]
  },
  {
   "cell_type": "code",
   "execution_count": null,
   "metadata": {},
   "outputs": [],
   "source": []
  }
 ],
 "metadata": {
  "interpreter": {
   "hash": "7f6f5766036ee03d059e365a942add07f79c17033585e9357ee8157d52fe6bb9"
  },
  "kernelspec": {
   "display_name": "Python 3.8.3 64-bit ('base': conda)",
   "language": "python",
   "name": "python3"
  },
  "language_info": {
   "codemirror_mode": {
    "name": "ipython",
    "version": 3
   },
   "file_extension": ".py",
   "mimetype": "text/x-python",
   "name": "python",
   "nbconvert_exporter": "python",
   "pygments_lexer": "ipython3",
   "version": "3.8.3"
  },
  "orig_nbformat": 4
 },
 "nbformat": 4,
 "nbformat_minor": 2
}
